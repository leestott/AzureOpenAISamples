{
 "cells": [
  {
   "cell_type": "markdown",
   "metadata": {},
   "source": [
    "# Azure OpenAI - GPT Vision\n",
    "In this notebook we are going to look at how can we use Azure OpenAI to analyse images.\n",
    "\n",
    "We will use the Azure OpenAI service to generate a description of the images of the previous lab."
   ]
  },
  {
   "cell_type": "code",
   "execution_count": 1,
   "metadata": {},
   "outputs": [],
   "source": [
    "from dotenv import load_dotenv\n",
    "import openai\n",
    "import os\n",
    "from openai import AzureOpenAI\n",
    "from IPython.display import display, HTML, JSON, Markdown, Image\n",
    "import base64\n",
    "\n",
    "load_dotenv()\n",
    "OPENAI_API_KEY = os.getenv(\"OPENAI_API_KEY\")\n",
    "OPENAI_DEPLOYMENT_ENDPOINT = os.getenv(\"OPENAI_DEPLOYMENT_ENDPOINT\")\n",
    "OPENAI_GPT4V_DEPLOYMENT_NAME = os.getenv(\"OPENAI_GPT4V_DEPLOYMENT_NAME\")"
   ]
  },
  {
   "cell_type": "code",
   "execution_count": 2,
   "metadata": {},
   "outputs": [],
   "source": [
    "client = AzureOpenAI(\n",
    "  azure_endpoint = OPENAI_DEPLOYMENT_ENDPOINT, \n",
    "  api_key=OPENAI_API_KEY,  \n",
    "  api_version=\"2024-02-15-preview\"\n",
    ")"
   ]
  },
  {
   "cell_type": "code",
   "execution_count": 3,
   "metadata": {},
   "outputs": [],
   "source": [
    "'''\n",
    "    Defines a function that takes an image path and returns a description of the image in the tone of a stylist using GPT-V.\n",
    "'''\n",
    "def analyze_image(image_path, prompt=None):\n",
    "    # Prompt where we are going to instruct the model on what to do with the given image\n",
    "    if prompt is None:\n",
    "        prompt = \"\"\"\n",
    "        You are a luxury fashion assistant which identifies elements of fashion in an image and generates description of the item in the tone of a stylist.\n",
    "\n",
    "        Be sure to identify the following elements in the image:\n",
    "        - The type of clothing or accessory\n",
    "        - The color of the item\n",
    "        - The material of the item\n",
    "        - The style of the item\n",
    "        - The season of the item\n",
    "        - The occasion of the item\n",
    "        - The fit of the item\n",
    "        - The pattern of the item\n",
    "        - The silhouette of the item\n",
    "        - The inspiration of the item\n",
    "\n",
    "        DO NOT make things up about the item. Only describe what you see in the image.\n",
    "\n",
    "        Give your description in around 50 words.\n",
    "        \"\"\"\n",
    "\n",
    "    # Loading the image from local path\n",
    "    with open(image_path, \"rb\") as image_file:\n",
    "        image = base64.b64encode(image_file.read()).decode('utf-8')\n",
    "\n",
    "    # Making a request to the GPT-4V model. This can work with the URL of a public accessible image or via a base64 encoded image.\n",
    "    response = client.chat.completions.create( \n",
    "        model=OPENAI_GPT4V_DEPLOYMENT_NAME,\n",
    "        messages=[\n",
    "            {\n",
    "            \"role\": \"user\",\n",
    "            \"content\": [\n",
    "                {\n",
    "                    \"type\": \"text\", \"text\": prompt\n",
    "                },\n",
    "                {\n",
    "                    \"type\": \"image_url\",\n",
    "                    \"image_url\": {\n",
    "                        \"url\": f\"data:image/jpeg;base64,{image}\"\n",
    "                    }\n",
    "                }\n",
    "            ]\n",
    "            }\n",
    "        ],\n",
    "        max_tokens=100\n",
    "    )\n",
    "\n",
    "    return response.choices[0].message.content"
   ]
  },
  {
   "cell_type": "code",
   "execution_count": 7,
   "metadata": {},
   "outputs": [
    {
     "data": {
      "image/jpeg": "[encoded data removed]",
      "text/plain": [
       "<IPython.core.display.Image object>"
      ]
     },
     "metadata": {},
     "output_type": "display_data"
    },
    {
     "data": {
      "text/html": [
       "This is a men's polo shirt with a gradient color scheme, blending from deep blue to a vibrant pink. The material appears to be a breathable synthetic, ideal for sports or casual summer wear. The fit is regular with a structured collar, and it features a subtle geometric pattern."
      ],
      "text/plain": [
       "<IPython.core.display.HTML object>"
      ]
     },
     "metadata": {},
     "output_type": "display_data"
    }
   ],
   "source": [
    "pic = \"./data/retail/bike.jpg\"\n",
    "desc = analyze_image(pic)\n",
    "display(Image(pic),HTML(desc))"
   ]
  },
  {
   "cell_type": "code",
   "execution_count": 8,
   "metadata": {},
   "outputs": [
    {
     "data": {
      "image/jpeg": "[encoded data removed]",
      "text/plain": [
       "<IPython.core.display.Image object>"
      ]
     },
     "metadata": {},
     "output_type": "display_data"
    },
    {
     "data": {
      "text/html": [
       "This elegant piece is a sleeveless, knee-length dress in a charming navy blue color with a polka dot pattern. The silhouette is fit-and-flare, which accentuates the waistline. The material seems to be a lightweight, possibly cotton blend, perfect for a spring or summer daytime event."
      ],
      "text/plain": [
       "<IPython.core.display.HTML object>"
      ]
     },
     "metadata": {},
     "output_type": "display_data"
    }
   ],
   "source": [
    "pic = \"./data/retail/dress.jpg\"\n",
    "desc = analyze_image(pic)\n",
    "display(Image(pic),HTML(desc))"
   ]
  },
  {
   "cell_type": "code",
   "execution_count": 42,
   "metadata": {},
   "outputs": [
    {
     "data": {
      "image/jpeg": "[encoded data removed]",
      "text/plain": [
       "<IPython.core.display.Image object>"
      ]
     },
     "metadata": {},
     "output_type": "display_data"
    },
    {
     "data": {
      "text/html": [
       "This is a luxurious emerald green evening gown made of pleated velvet. The style is elegant and timeless with long sleeves and a deep V-neckline. The fit is cinched at the waist, creating a flattering silhouette perfect for a formal event. It is appropriate for fall or winter."
      ],
      "text/plain": [
       "<IPython.core.display.HTML object>"
      ]
     },
     "metadata": {},
     "output_type": "display_data"
    }
   ],
   "source": [
    "pic = \"./data/retail/dress2.jpg\"\n",
    "desc = analyze_image(pic)\n",
    "display(Image(pic),HTML(desc))"
   ]
  },
  {
   "cell_type": "code",
   "execution_count": 43,
   "metadata": {},
   "outputs": [
    {
     "data": {
      "image/jpeg": "[encoded data removed]",
      "text/plain": [
       "<IPython.core.display.Image object>"
      ]
     },
     "metadata": {},
     "output_type": "display_data"
    },
    {
     "data": {
      "text/html": [
       "This is a vibrant chartreuse green maxi dress. Crafted from silk, it features a ruched bodice and spaghetti straps, creating a romantic silhouette. It's perfect for a warm-weather event or garden party. The dress fits snugly at the waist and flows gracefully to the floor."
      ],
      "text/plain": [
       "<IPython.core.display.HTML object>"
      ]
     },
     "metadata": {},
     "output_type": "display_data"
    }
   ],
   "source": [
    "pic = \"./data/retail/dress3.jpg\"\n",
    "desc = analyze_image(pic)\n",
    "display(Image(pic),HTML(desc))"
   ]
  },
  {
   "cell_type": "code",
   "execution_count": 44,
   "metadata": {},
   "outputs": [
    {
     "data": {
      "image/jpeg": "[encoded data removed]",
      "text/plain": [
       "<IPython.core.display.Image object>"
      ]
     },
     "metadata": {},
     "output_type": "display_data"
    },
    {
     "data": {
      "text/html": [
       "These are wide-leg trousers in a neutral beige color. Made from a wool blend fabric, they feature a high-waisted fit with a pleated front, perfect for fall or spring. The silhouette gives a nod to vintage menswear, ideal for a sophisticated workwear look or a chic daytime event."
      ],
      "text/plain": [
       "<IPython.core.display.HTML object>"
      ]
     },
     "metadata": {},
     "output_type": "display_data"
    }
   ],
   "source": [
    "pic = \"./data/retail/pants.jpg\"\n",
    "desc = analyze_image(pic)\n",
    "display(Image(pic),HTML(desc))"
   ]
  },
  {
   "cell_type": "code",
   "execution_count": 45,
   "metadata": {},
   "outputs": [
    {
     "data": {
      "image/jpeg": "[encoded data removed]",
      "text/plain": [
       "<IPython.core.display.Image object>"
      ]
     },
     "metadata": {},
     "output_type": "display_data"
    },
    {
     "data": {
      "text/html": [
       "These are a pair of sophisticated, olive green, cotton blend trousers. They come in a relaxed fit with an elastic waistband and drawstring detail for comfort. Perfect for a casual or smart-casual event in the spring/summer season. The trousers have a solid pattern and a tapered silhouette."
      ],
      "text/plain": [
       "<IPython.core.display.HTML object>"
      ]
     },
     "metadata": {},
     "output_type": "display_data"
    }
   ],
   "source": [
    "pic = \"./data/retail/pants2.jpg\"\n",
    "desc = analyze_image(pic)\n",
    "display(Image(pic),HTML(desc))"
   ]
  },
  {
   "cell_type": "code",
   "execution_count": 46,
   "metadata": {},
   "outputs": [
    {
     "data": {
      "image/jpeg": "[encoded data removed]",
      "text/plain": [
       "<IPython.core.display.Image object>"
      ]
     },
     "metadata": {},
     "output_type": "display_data"
    },
    {
     "data": {
      "text/html": [
       "These are a pair of beige cargo pants, crafted from a durable cotton blend. The relaxed fit and multiple pockets give the item a utilitarian vibe, perfect for a casual outdoor excursion. The silhouette is straight-leg, and the design draws inspiration from military wear."
      ],
      "text/plain": [
       "<IPython.core.display.HTML object>"
      ]
     },
     "metadata": {},
     "output_type": "display_data"
    }
   ],
   "source": [
    "pic = \"./data/retail/pants3.jpg\"\n",
    "desc = analyze_image(pic)\n",
    "display(Image(pic),HTML(desc))"
   ]
  },
  {
   "cell_type": "code",
   "execution_count": 47,
   "metadata": {},
   "outputs": [
    {
     "data": {
      "image/jpeg": "[encoded data removed]",
      "text/plain": [
       "<IPython.core.display.Image object>"
      ]
     },
     "metadata": {},
     "output_type": "display_data"
    },
    {
     "data": {
      "text/html": [
       "These are a pair of classic beige dress pants crafted from a fine cotton blend, ideal for the spring/summer season. With a sleek straight fit and no visible pattern, they project timeless sophistication, perfect for professional or semi-formal occasions. The silhouette is sharp, with a clean, flat front design."
      ],
      "text/plain": [
       "<IPython.core.display.HTML object>"
      ]
     },
     "metadata": {},
     "output_type": "display_data"
    }
   ],
   "source": [
    "pic = \"./data/retail/pants4.jpg\"\n",
    "desc = analyze_image(pic)\n",
    "display(Image(pic),HTML(desc))"
   ]
  },
  {
   "cell_type": "code",
   "execution_count": 48,
   "metadata": {},
   "outputs": [
    {
     "data": {
      "image/jpeg": "[encoded data removed]",
      "text/plain": [
       "<IPython.core.display.Image object>"
      ]
     },
     "metadata": {},
     "output_type": "display_data"
    },
    {
     "data": {
      "text/html": [
       "This image showcases a trio of short-sleeved crewneck t-shirts in black, white, and light blue. The t-shirts are made from a soft, breathable cotton fabric, perfect for casual wear in warmer seasons. The fit is classic and relaxed, allowing for versatile styling options."
      ],
      "text/plain": [
       "<IPython.core.display.HTML object>"
      ]
     },
     "metadata": {},
     "output_type": "display_data"
    }
   ],
   "source": [
    "pic = \"./data/retail/tshirt.jpg\"\n",
    "desc = analyze_image(pic)\n",
    "display(Image(pic),HTML(desc))"
   ]
  },
  {
   "cell_type": "markdown",
   "metadata": {},
   "source": [
    "## Augmenting the prompt"
   ]
  },
  {
   "cell_type": "markdown",
   "metadata": {},
   "source": [
    "### Product Metadata\n",
    "If we are a retailer generating product descriptions we also have access to some aditional metadata about the product which might be relevant.\n",
    "\n",
    "Let's take the example of the T-Shirt, where we know that it is made from 100% organic cotton."
   ]
  },
  {
   "cell_type": "code",
   "execution_count": 49,
   "metadata": {},
   "outputs": [],
   "source": [
    "prompt = \"\"\"\n",
    "        You are a luxury fashion assistant which identifies elements of fashion in an image and generates description of the item in the tone of a stylist.\n",
    "        \n",
    "        Be sure to identify the following elements in the image:\n",
    "        - The type of clothing or accessory\n",
    "        - The color of the item\n",
    "        - The material of the item\n",
    "        - The style of the item\n",
    "        - The season of the item\n",
    "        - The occasion of the item\n",
    "        - The fit of the item\n",
    "        - The pattern of the item\n",
    "        - The silhouette of the item\n",
    "        - The inspiration of the item\n",
    "\n",
    "        You should always take into consideration the information give below about the product to generate the description.\n",
    "\n",
    "        You have access to the following information about the product:\n",
    "        Composition: 100% organic cotton\n",
    "\n",
    "        DO NOT make things up about the item. Only describe what you see in the image and make use of the extra information provided about the item.\n",
    "\n",
    "        Give your description in around 50 words.\n",
    "        \"\"\""
   ]
  },
  {
   "cell_type": "code",
   "execution_count": 50,
   "metadata": {},
   "outputs": [
    {
     "data": {
      "image/jpeg": "[encoded data removed]",
      "text/plain": [
       "<IPython.core.display.Image object>"
      ]
     },
     "metadata": {},
     "output_type": "display_data"
    },
    {
     "data": {
      "text/html": [
       "This set features three classic t-shirts crafted from 100% organic cotton, perfect for any casual occasion. Available in black, white, and light blue, these minimalist pieces boast a relaxed fit with a timeless crew neckline. Ideal for the spring/summer season, they offer comfort and effortless style."
      ],
      "text/plain": [
       "<IPython.core.display.HTML object>"
      ]
     },
     "metadata": {},
     "output_type": "display_data"
    }
   ],
   "source": [
    "pic = \"./data/retail/tshirt.jpg\"\n",
    "desc = analyze_image(pic,prompt)\n",
    "display(Image(pic),HTML(desc))"
   ]
  },
  {
   "cell_type": "markdown",
   "metadata": {},
   "source": [
    "### Hyper-personalization\n",
    "What if we could also use the user's browsing history and/or purchase history to generate a more personalized description?"
   ]
  },
  {
   "cell_type": "code",
   "execution_count": 51,
   "metadata": {},
   "outputs": [],
   "source": [
    "prompt = \"\"\"\n",
    "        You are a luxury fashion assistant which identifies elements of fashion in an image and generates description of the item in the tone of a stylist.\n",
    "        \n",
    "        Be sure to identify the following elements in the image:\n",
    "        - The type of clothing or accessory\n",
    "        - The color of the item\n",
    "        - The material of the item\n",
    "        - The style of the item\n",
    "        - The season of the item\n",
    "        - The occasion of the item\n",
    "        - The fit of the item\n",
    "        - The pattern of the item\n",
    "        - The silhouette of the item\n",
    "        - The inspiration of the item\n",
    "\n",
    "        You should always take into consideration the information give below about the product to generate the description.\n",
    "        You have access to the following information about the product:\n",
    "        Composition: 100% organic cotton\n",
    "\n",
    "        You should write the description targeting the user below. Make sure to identify the properties of the item which would make the most impact to the purchase decision.\n",
    "\n",
    "        You have access to the following information about the user:\n",
    "        Age: 20\n",
    "        Gender: Man\n",
    "        Browsing History: T-Shirts, Jeans, Sneakers\n",
    "        Purchase History: White jordan sneakers\n",
    "        Customer Cohort: luxury buyer\n",
    "\n",
    "        DO NOT make things up about the item. Only describe what you see in the image and make use of the extra information provided about the item and the user.\n",
    "\n",
    "        Give your description in around 50 words.\n",
    "        \"\"\""
   ]
  },
  {
   "cell_type": "code",
   "execution_count": 52,
   "metadata": {},
   "outputs": [
    {
     "data": {
      "image/jpeg": "[encoded data removed]",
      "text/plain": [
       "<IPython.core.display.Image object>"
      ]
     },
     "metadata": {},
     "output_type": "display_data"
    },
    {
     "data": {
      "text/html": [
       "Elevate your casual wardrobe with these classic crewneck T-shirts. Made from 100% organic cotton, they come in black, white, and blue. The impeccable fit and solid colors are perfect for a luxury buyer pairing it with jeans and white Jordan sneakers for an effortless, stylish look. Suitable for all seasons and casual occasions."
      ],
      "text/plain": [
       "<IPython.core.display.HTML object>"
      ]
     },
     "metadata": {},
     "output_type": "display_data"
    }
   ],
   "source": [
    "pic = \"./data/retail/tshirt.jpg\"\n",
    "desc = analyze_image(pic,prompt)\n",
    "display(Image(pic),HTML(desc))"
   ]
  }
 ],
 "metadata": {
  "kernelspec": {
   "display_name": "venv",
   "language": "python",
   "name": "python3"
  },
  "language_info": {
   "codemirror_mode": {
    "name": "ipython",
    "version": 3
   },
   "file_extension": ".py",
   "mimetype": "text/x-python",
   "name": "python",
   "nbconvert_exporter": "python",
   "pygments_lexer": "ipython3",
   "version": "3.10.11"
  }
 },
 "nbformat": 4,
 "nbformat_minor": 2
}
